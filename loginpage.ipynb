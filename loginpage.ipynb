{
 "cells": [
  {
   "cell_type": "code",
   "execution_count": 8,
   "id": "ae038227",
   "metadata": {},
   "outputs": [
    {
     "name": "stdout",
     "output_type": "stream",
     "text": [
      "Enter the username: hello\n",
      "Enter the password: ABC\n",
      "Login successful!\n"
     ]
    }
   ],
   "source": [
    "a = {\"hello\": \"ABC\", \"name\": \"XYZ\", \"Yellow\": \"DEF\"}\n",
    "\n",
    "username = input(\"Enter the username: \")\n",
    "password = input(\"Enter the password: \")\n",
    "\n",
    "if username in a and a[username] == password:\n",
    "    print(\"Login successful!\")\n",
    "else:\n",
    "    print(\"Not possible!\") "
   ]
  }
 ],
 "metadata": {
  "kernelspec": {
   "display_name": "Python 3 (ipykernel)",
   "language": "python",
   "name": "python3"
  },
  "language_info": {
   "codemirror_mode": {
    "name": "ipython",
    "version": 3
   },
   "file_extension": ".py",
   "mimetype": "text/x-python",
   "name": "python",
   "nbconvert_exporter": "python",
   "pygments_lexer": "ipython3",
   "version": "3.9.12"
  }
 },
 "nbformat": 4,
 "nbformat_minor": 5
}
