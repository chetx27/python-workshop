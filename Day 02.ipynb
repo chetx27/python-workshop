{
 "cells": [
  {
   "cell_type": "markdown",
   "id": "d1c049b4",
   "metadata": {},
   "source": [
    "# Execute infinite times: time(2)  -  is for executing after 2 seconds slowly!"
   ]
  },
  {
   "cell_type": "code",
   "execution_count": 1,
   "id": "9e19fca0",
   "metadata": {},
   "outputs": [
    {
     "name": "stdout",
     "output_type": "stream",
     "text": [
      "10\n",
      "9\n",
      "8\n",
      "7\n",
      "6\n",
      "5\n",
      "4\n",
      "3\n",
      "2\n",
      "1\n",
      "0\n"
     ]
    }
   ],
   "source": [
    "\n",
    "a=10\n",
    "import time\n",
    "while a>=0:\n",
    "    print(a)\n",
    "    time.sleep(2)\n",
    "    a=a-1"
   ]
  },
  {
   "cell_type": "markdown",
   "id": "9e4d7d00",
   "metadata": {},
   "source": [
    "# To stop the program at certain interval : we use break!"
   ]
  },
  {
   "cell_type": "code",
   "execution_count": 2,
   "id": "3fcabc4a",
   "metadata": {},
   "outputs": [
    {
     "name": "stdout",
     "output_type": "stream",
     "text": [
      "10\n"
     ]
    }
   ],
   "source": [
    "\n",
    "a=10\n",
    "import time\n",
    "while a>=0:\n",
    "    print(a)\n",
    "    time.sleep(2)\n",
    "    break\n",
    "    a=a-1"
   ]
  },
  {
   "cell_type": "markdown",
   "id": "9c2013fb",
   "metadata": {},
   "source": [
    "# to stop correctly at 5 and break! We should use CONTINUE!"
   ]
  },
  {
   "cell_type": "code",
   "execution_count": 1,
   "id": "b2d7cfcf",
   "metadata": {},
   "outputs": [
    {
     "name": "stdout",
     "output_type": "stream",
     "text": [
      "10\n",
      "9\n",
      "8\n",
      "7\n",
      "6\n",
      "5\n"
     ]
    }
   ],
   "source": [
    "\n",
    "a=10\n",
    "import time\n",
    "while a>=0:\n",
    "    \n",
    "    if a>=5:\n",
    "        print(a)\n",
    "        a=a-1\n",
    "        continue \n",
    "    break\n",
    "    \n",
    "    time.sleep(2)"
   ]
  },
  {
   "cell_type": "markdown",
   "id": "65b213c3",
   "metadata": {},
   "source": [
    "# isdigit() and isnumeric() is sameeeeee!!!!!!!"
   ]
  },
  {
   "cell_type": "code",
   "execution_count": 1,
   "id": "d4114915",
   "metadata": {
    "scrolled": false
   },
   "outputs": [
    {
     "name": "stdout",
     "output_type": "stream",
     "text": [
      "Enter no 1: 5\n",
      "Enter no 2: 4\n",
      "Enter no 3: 7\n",
      "Enter the operation eg: + - * /+\n",
      "Sum: 16\n",
      "Do u wanna continue!!! yes/noyes\n",
      "Enter no 1: 4\n",
      "Enter no 2: 89\n",
      "Enter no 3: 565\n",
      "Enter the operation eg: + - * /*\n",
      "Multi: 201140\n",
      "Do u wanna continue!!! yes/nono\n"
     ]
    }
   ],
   "source": [
    "while True:\n",
    "    a=input(\"Enter no 1: \")\n",
    "    b=input(\"Enter no 2: \")\n",
    "    c=input(\"Enter no 3: \")\n",
    "    d=input(\"Enter the operation eg: + - * /\")\n",
    "    if a.isdigit() and b.isdigit() and c.isdigit():\n",
    "        a=int(a)\n",
    "        b=int(b)\n",
    "        c=int(c)\n",
    "        if(d=='+'):\n",
    "            sum=a+b+c\n",
    "            print(\"Sum:\",sum)\n",
    "        elif(d=='-'):\n",
    "            sub=a-b-c\n",
    "            print(\"Sub:\",sub)\n",
    "        elif(d=='*'):\n",
    "            multi=a*b*c\n",
    "            print(\"Multi:\",multi)\n",
    "        else:\n",
    "            if(a==0):\n",
    "                print(\"Div Not possible!\")\n",
    "            else:\n",
    "                div=(a/b)/c\n",
    "    else:\n",
    "        print(\"Operation not possible due to character!\") \n",
    "        \n",
    "    ch=input(\"Do u wanna continue!!! yes/no\")\n",
    "    if ch=='yes'or ch=='Yes' or ch=='YES':\n",
    "        continue\n",
    "    elif ch=='no' or ch=='No' or ch=='NO':\n",
    "        break\n",
    "    else:\n",
    "        print(\"Please enter valid output!!!!!!!!!!!!!!\")"
   ]
  },
  {
   "cell_type": "code",
   "execution_count": 2,
   "id": "38f72b94",
   "metadata": {},
   "outputs": [
    {
     "name": "stdout",
     "output_type": "stream",
     "text": [
      "Enter the no to check7\n",
      "odd!\n"
     ]
    }
   ],
   "source": [
    "a=int(input(\"Enter the no to check\"))\n",
    "if a%2==0:\n",
    "    print(\"even!\")\n",
    "else:\n",
    "    print(\"odd!\")"
   ]
  },
  {
   "cell_type": "markdown",
   "id": "dfb69b5e",
   "metadata": {},
   "source": [
    "# For loop\n",
    "# for i in range(1,10,2)\n",
    "# print(i)"
   ]
  },
  {
   "cell_type": "code",
   "execution_count": 4,
   "id": "26ffec53",
   "metadata": {},
   "outputs": [
    {
     "name": "stdout",
     "output_type": "stream",
     "text": [
      "1\n",
      "3\n",
      "5\n",
      "7\n",
      "9\n"
     ]
    }
   ],
   "source": [
    "import time\n",
    "for i in range(1,10,2):\n",
    "    print(i)\n",
    "    time.sleep(i)"
   ]
  },
  {
   "cell_type": "markdown",
   "id": "2d3da8a2",
   "metadata": {},
   "source": [
    "# in for loop the 1st and 2nd will be limits and last  limit will be step the values which means the values will be skipped \n",
    "# if 1 means skip one(1,2,3,4,5), 2 means skip 2 values(1,3,5), 3 means skip 3 values(1,3)"
   ]
  },
  {
   "cell_type": "code",
   "execution_count": 13,
   "id": "bcef7cac",
   "metadata": {},
   "outputs": [
    {
     "name": "stdout",
     "output_type": "stream",
     "text": [
      "Hello\n",
      "Hello\n",
      "Hello\n",
      "Hello\n"
     ]
    }
   ],
   "source": [
    "for i in range(1,5,1):\n",
    "     print(\"Hello\")\n",
    "    "
   ]
  },
  {
   "cell_type": "code",
   "execution_count": null,
   "id": "fef6d70b",
   "metadata": {},
   "outputs": [],
   "source": [
    "# *****\n",
    "# *****\n",
    "# *****\n",
    "# *****\n",
    "# *****\n",
    "# *****"
   ]
  },
  {
   "cell_type": "markdown",
   "id": "35d05a8c",
   "metadata": {},
   "source": [
    "# print() - directly goes to next lineeeeeeeee!!\n",
    "# end=\" \" - follows the cursor to go in the same lineeee no next linee!"
   ]
  },
  {
   "cell_type": "code",
   "execution_count": 14,
   "id": "94262b74",
   "metadata": {},
   "outputs": [
    {
     "name": "stdout",
     "output_type": "stream",
     "text": [
      "Enter the no of rows4\n",
      "* * * * \n",
      "* * * * \n",
      "* * * * \n",
      "* * * * \n"
     ]
    }
   ],
   "source": [
    "import time\n",
    "a=int(input(\"Enter the no of rows\"))\n",
    "for i in range(1,a+1): \n",
    "    for j in range(1,a+1):\n",
    "            print('*',end=\" \")\n",
    "            time.sleep(1)\n",
    "    print()"
   ]
  },
  {
   "cell_type": "code",
   "execution_count": null,
   "id": "dda49469",
   "metadata": {},
   "outputs": [],
   "source": [
    "# to write the program in lines!\n",
    "# 1 1 1 1 1 \n",
    "# 2 2 2 2 2 \n",
    "# 3 3 3 3 3\n",
    "# 4 4 4 4 4\n",
    "# 5 5 5 5 5\n",
    "              #.....n"
   ]
  },
  {
   "cell_type": "code",
   "execution_count": 16,
   "id": "aee41b1a",
   "metadata": {},
   "outputs": [
    {
     "name": "stdout",
     "output_type": "stream",
     "text": [
      "Enter the no of rows:5\n",
      "1 1 1 1 1 \n",
      "2 2 2 2 2 \n",
      "3 3 3 3 3 \n",
      "4 4 4 4 4 \n",
      "5 5 5 5 5 \n"
     ]
    }
   ],
   "source": [
    "import time\n",
    "a=int(input(\"Enter the no of rows:\"))\n",
    "for i in range(1,a+1): \n",
    "    for j in range(1,a+1):\n",
    "            print(i,end=\" \")\n",
    "            time.sleep(1)\n",
    "    print()"
   ]
  },
  {
   "cell_type": "code",
   "execution_count": null,
   "id": "7d82da56",
   "metadata": {},
   "outputs": [],
   "source": [
    "# ord() - displays the ASCII values of the letters\n",
    "# chr(n) -  displayes the number to ASCII"
   ]
  },
  {
   "cell_type": "code",
   "execution_count": 12,
   "id": "9335e12e",
   "metadata": {},
   "outputs": [
    {
     "ename": "NameError",
     "evalue": "name 'o' is not defined",
     "output_type": "error",
     "traceback": [
      "\u001b[1;31m---------------------------------------------------------------------------\u001b[0m",
      "\u001b[1;31mNameError\u001b[0m                                 Traceback (most recent call last)",
      "Input \u001b[1;32mIn [12]\u001b[0m, in \u001b[0;36m<cell line: 1>\u001b[1;34m()\u001b[0m\n\u001b[1;32m----> 1\u001b[0m \u001b[38;5;28mord\u001b[39m(\u001b[43mo\u001b[49m)\n\u001b[0;32m      2\u001b[0m \u001b[38;5;28mchr\u001b[39m(\u001b[38;5;241m77\u001b[39m)\n",
      "\u001b[1;31mNameError\u001b[0m: name 'o' is not defined"
     ]
    }
   ],
   "source": [
    "ord(o)\n",
    "chr(77)"
   ]
  },
  {
   "cell_type": "code",
   "execution_count": 3,
   "id": "4b798c66",
   "metadata": {},
   "outputs": [
    {
     "name": "stdout",
     "output_type": "stream",
     "text": [
      "Enter the no of rows:6\n",
      "A A A A A A \n",
      "B B B B B B \n",
      "C C C C C C \n",
      "D D D D D D \n",
      "E E E E E E \n",
      "F F F F F F \n"
     ]
    }
   ],
   "source": [
    "import time\n",
    "a=int(input(\"Enter the no of rows:\"))\n",
    "for i in range(1,a+1): \n",
    "    for j in range(1,a+1):\n",
    "            print(chr(64+i),end=\" \")\n",
    "            time.sleep(1)\n",
    "    print()"
   ]
  },
  {
   "cell_type": "code",
   "execution_count": 8,
   "id": "6b82cf55",
   "metadata": {
    "scrolled": true
   },
   "outputs": [
    {
     "name": "stdout",
     "output_type": "stream",
     "text": [
      "Enter the no of rows:9\n",
      "\n",
      "* \n",
      "* * \n",
      "* * * \n",
      "* * * * \n",
      "* * * * * \n",
      "* * * * * * \n",
      "* * * * * * * \n",
      "* * * * * * * * \n"
     ]
    }
   ],
   "source": [
    "import time\n",
    "a=int(input(\"Enter the no of rows:\"))\n",
    "for i in range(1,a+1): \n",
    "    for j in range(1,i):\n",
    "            print('*',end=\" \")\n",
    "            time.sleep(1)\n",
    "    print()"
   ]
  },
  {
   "cell_type": "code",
   "execution_count": 11,
   "id": "54519833",
   "metadata": {},
   "outputs": [
    {
     "name": "stdout",
     "output_type": "stream",
     "text": [
      "Enter the no of rows:8\n"
     ]
    }
   ],
   "source": [
    "import time\n",
    "a=int(input(\"Enter the no of rows:\"))\n",
    "for i in range(5,i-1): \n",
    "    for j in range(1,i):\n",
    "            print('*',end=\" \")\n",
    "            time.sleep(1)\n",
    "    print()"
   ]
  },
  {
   "cell_type": "markdown",
   "id": "9f7a84de",
   "metadata": {},
   "source": [
    "# USER _ DEF FUNCTION"
   ]
  },
  {
   "cell_type": "code",
   "execution_count": 15,
   "id": "90965d3a",
   "metadata": {},
   "outputs": [
    {
     "name": "stdout",
     "output_type": "stream",
     "text": [
      "Good morning!\n",
      "Welcome to py workshop!\n"
     ]
    }
   ],
   "source": [
    "def welcome():\n",
    "    print(\"Good morning!\")\n",
    "    print(\"Welcome to py workshop!\")\n",
    "    \n",
    "welcome()"
   ]
  },
  {
   "cell_type": "code",
   "execution_count": 16,
   "id": "3bed4982",
   "metadata": {},
   "outputs": [
    {
     "name": "stdout",
     "output_type": "stream",
     "text": [
      "Good morning!\n",
      "Welcome to py workshop!\n"
     ]
    }
   ],
   "source": [
    "welcome()"
   ]
  },
  {
   "cell_type": "markdown",
   "id": "b6e4604f",
   "metadata": {},
   "source": [
    "# to call the function we must write the function name!!"
   ]
  },
  {
   "cell_type": "code",
   "execution_count": 17,
   "id": "8f81c8bf",
   "metadata": {},
   "outputs": [
    {
     "name": "stdout",
     "output_type": "stream",
     "text": [
      "Hi! Harish Good morning!\n",
      "Welcome to py workshop!\n"
     ]
    }
   ],
   "source": [
    "def welcome(name):\n",
    "    print(\"Hi!\" , name, \"Good morning!\")\n",
    "    print(\"Welcome to py workshop!\")\n",
    "    \n",
    "welcome(\"Harish\")"
   ]
  },
  {
   "cell_type": "code",
   "execution_count": 19,
   "id": "03ac85fa",
   "metadata": {},
   "outputs": [
    {
     "name": "stdout",
     "output_type": "stream",
     "text": [
      "Type your name: chethana\n",
      "Hi! chethana Good morning!\n",
      "Welcome to py workshop!\n"
     ]
    }
   ],
   "source": [
    "def welcome(name):\n",
    "    print(\"Hi!\" , name, \"Good morning!\")\n",
    "    print(\"Welcome to py workshop!\")\n",
    "    \n",
    "welcome(input(\"Type your name : \"))"
   ]
  },
  {
   "cell_type": "code",
   "execution_count": 25,
   "id": "6392c370",
   "metadata": {},
   "outputs": [
    {
     "name": "stdout",
     "output_type": "stream",
     "text": [
      "Enter n1: 9\n",
      "Enter n2: 4\n",
      "Addition:  13\n",
      "Subtraction:  5\n"
     ]
    }
   ],
   "source": [
    "def calci(n1,n2):\n",
    "    sum=n1+n2\n",
    "    sub=n1-n2\n",
    "    print (\"Addition: \", sum)\n",
    "    print (\"Subtraction: \", sub)\n",
    "    \n",
    "a=int(input(\"Enter n1: \"))\n",
    "b=int(input(\"Enter n2: \"))\n",
    "calci(a,b)"
   ]
  },
  {
   "cell_type": "code",
   "execution_count": 34,
   "id": "3cc46c7f",
   "metadata": {},
   "outputs": [
    {
     "name": "stdout",
     "output_type": "stream",
     "text": [
      "Enter n1: 7\n",
      "Enter n2: 4\n",
      "Sum:  11\n",
      "Sub:  3\n",
      "Multi:  28\n",
      "Div:  3\n"
     ]
    }
   ],
   "source": [
    "def calci(x,y):\n",
    "    sum=x+y\n",
    "    sub=x-y\n",
    "    multi=x*y\n",
    "    div=x-y\n",
    "    \n",
    "    return sum,sub,multi,div\n",
    "\n",
    "a=int(input(\"Enter n1: \"))\n",
    "b=int(input(\"Enter n2: \"))\n",
    "a,b,c,d=calci(a,b)\n",
    "print(\"Sum: \", a)\n",
    "print(\"Sub: \", b)\n",
    "print(\"Multi: \",c)\n",
    "print(\"Div: \",d)"
   ]
  },
  {
   "cell_type": "markdown",
   "id": "4b287dc7",
   "metadata": {},
   "source": [
    "# MATH FN'S IN BUILT"
   ]
  },
  {
   "cell_type": "code",
   "execution_count": 37,
   "id": "a614b665",
   "metadata": {},
   "outputs": [
    {
     "data": {
      "text/plain": [
       "['__doc__',\n",
       " '__loader__',\n",
       " '__name__',\n",
       " '__package__',\n",
       " '__spec__',\n",
       " 'acos',\n",
       " 'acosh',\n",
       " 'asin',\n",
       " 'asinh',\n",
       " 'atan',\n",
       " 'atan2',\n",
       " 'atanh',\n",
       " 'ceil',\n",
       " 'comb',\n",
       " 'copysign',\n",
       " 'cos',\n",
       " 'cosh',\n",
       " 'degrees',\n",
       " 'dist',\n",
       " 'e',\n",
       " 'erf',\n",
       " 'erfc',\n",
       " 'exp',\n",
       " 'expm1',\n",
       " 'fabs',\n",
       " 'factorial',\n",
       " 'floor',\n",
       " 'fmod',\n",
       " 'frexp',\n",
       " 'fsum',\n",
       " 'gamma',\n",
       " 'gcd',\n",
       " 'hypot',\n",
       " 'inf',\n",
       " 'isclose',\n",
       " 'isfinite',\n",
       " 'isinf',\n",
       " 'isnan',\n",
       " 'isqrt',\n",
       " 'lcm',\n",
       " 'ldexp',\n",
       " 'lgamma',\n",
       " 'log',\n",
       " 'log10',\n",
       " 'log1p',\n",
       " 'log2',\n",
       " 'modf',\n",
       " 'nan',\n",
       " 'nextafter',\n",
       " 'perm',\n",
       " 'pi',\n",
       " 'pow',\n",
       " 'prod',\n",
       " 'radians',\n",
       " 'remainder',\n",
       " 'sin',\n",
       " 'sinh',\n",
       " 'sqrt',\n",
       " 'tan',\n",
       " 'tanh',\n",
       " 'tau',\n",
       " 'trunc',\n",
       " 'ulp']"
      ]
     },
     "execution_count": 37,
     "metadata": {},
     "output_type": "execute_result"
    }
   ],
   "source": [
    "import math\n",
    "dir (math)"
   ]
  },
  {
   "cell_type": "code",
   "execution_count": 38,
   "id": "bd7faf03",
   "metadata": {},
   "outputs": [
    {
     "data": {
      "text/plain": [
       "81.0"
      ]
     },
     "execution_count": 38,
     "metadata": {},
     "output_type": "execute_result"
    }
   ],
   "source": [
    "math.pow(3,4)"
   ]
  },
  {
   "cell_type": "code",
   "execution_count": 39,
   "id": "648ccddc",
   "metadata": {},
   "outputs": [
    {
     "data": {
      "text/plain": [
       "3.141592653589793"
      ]
     },
     "execution_count": 39,
     "metadata": {},
     "output_type": "execute_result"
    }
   ],
   "source": [
    "math.pi"
   ]
  },
  {
   "cell_type": "code",
   "execution_count": 41,
   "id": "6817bb7d",
   "metadata": {},
   "outputs": [
    {
     "data": {
      "text/plain": [
       "120"
      ]
     },
     "execution_count": 41,
     "metadata": {},
     "output_type": "execute_result"
    }
   ],
   "source": [
    "math.factorial(5)"
   ]
  },
  {
   "cell_type": "code",
   "execution_count": 46,
   "id": "955a22d6",
   "metadata": {},
   "outputs": [
    {
     "data": {
      "text/plain": [
       "71029560"
      ]
     },
     "execution_count": 46,
     "metadata": {},
     "output_type": "execute_result"
    }
   ],
   "source": [
    "math.lcm(8,8878695)"
   ]
  },
  {
   "cell_type": "code",
   "execution_count": 49,
   "id": "499c5426",
   "metadata": {},
   "outputs": [
    {
     "name": "stdout",
     "output_type": "stream",
     "text": [
      "Enter the year!!!!!!!!!!!!!!!!!!!!!!!!!!!!!!!!!!  : 2025\n",
      "Enter the month!!!!!!!!!!!!!!!!!!!!!!!!!!!!! :4\n",
      "     April 2025\n",
      "Mo Tu We Th Fr Sa Su\n",
      "    1  2  3  4  5  6\n",
      " 7  8  9 10 11 12 13\n",
      "14 15 16 17 18 19 20\n",
      "21 22 23 24 25 26 27\n",
      "28 29 30\n",
      "\n",
      "                                  2025\n",
      "\n",
      "      January                   February                   March\n",
      "Mo Tu We Th Fr Sa Su      Mo Tu We Th Fr Sa Su      Mo Tu We Th Fr Sa Su\n",
      "       1  2  3  4  5                      1  2                      1  2\n",
      " 6  7  8  9 10 11 12       3  4  5  6  7  8  9       3  4  5  6  7  8  9\n",
      "13 14 15 16 17 18 19      10 11 12 13 14 15 16      10 11 12 13 14 15 16\n",
      "20 21 22 23 24 25 26      17 18 19 20 21 22 23      17 18 19 20 21 22 23\n",
      "27 28 29 30 31            24 25 26 27 28            24 25 26 27 28 29 30\n",
      "                                                    31\n",
      "\n",
      "       April                      May                       June\n",
      "Mo Tu We Th Fr Sa Su      Mo Tu We Th Fr Sa Su      Mo Tu We Th Fr Sa Su\n",
      "    1  2  3  4  5  6                1  2  3  4                         1\n",
      " 7  8  9 10 11 12 13       5  6  7  8  9 10 11       2  3  4  5  6  7  8\n",
      "14 15 16 17 18 19 20      12 13 14 15 16 17 18       9 10 11 12 13 14 15\n",
      "21 22 23 24 25 26 27      19 20 21 22 23 24 25      16 17 18 19 20 21 22\n",
      "28 29 30                  26 27 28 29 30 31         23 24 25 26 27 28 29\n",
      "                                                    30\n",
      "\n",
      "        July                     August                  September\n",
      "Mo Tu We Th Fr Sa Su      Mo Tu We Th Fr Sa Su      Mo Tu We Th Fr Sa Su\n",
      "    1  2  3  4  5  6                   1  2  3       1  2  3  4  5  6  7\n",
      " 7  8  9 10 11 12 13       4  5  6  7  8  9 10       8  9 10 11 12 13 14\n",
      "14 15 16 17 18 19 20      11 12 13 14 15 16 17      15 16 17 18 19 20 21\n",
      "21 22 23 24 25 26 27      18 19 20 21 22 23 24      22 23 24 25 26 27 28\n",
      "28 29 30 31               25 26 27 28 29 30 31      29 30\n",
      "\n",
      "      October                   November                  December\n",
      "Mo Tu We Th Fr Sa Su      Mo Tu We Th Fr Sa Su      Mo Tu We Th Fr Sa Su\n",
      "       1  2  3  4  5                      1  2       1  2  3  4  5  6  7\n",
      " 6  7  8  9 10 11 12       3  4  5  6  7  8  9       8  9 10 11 12 13 14\n",
      "13 14 15 16 17 18 19      10 11 12 13 14 15 16      15 16 17 18 19 20 21\n",
      "20 21 22 23 24 25 26      17 18 19 20 21 22 23      22 23 24 25 26 27 28\n",
      "27 28 29 30 31            24 25 26 27 28 29 30      29 30 31\n",
      "\n"
     ]
    }
   ],
   "source": [
    "import calendar \n",
    "year=int(input(\"Enter the year!!!!!!!!!!!!!!!!!!!!!!!!!!!!!!!!!!  : \"))\n",
    "month= int(input(\"Enter the month!!!!!!!!!!!!!!!!!!!!!!!!!!!!! :\"))\n",
    "print(calendar.month(year,month))\n",
    "print(calendar.calendar(year))"
   ]
  },
  {
   "cell_type": "code",
   "execution_count": 51,
   "id": "4c90d63a",
   "metadata": {},
   "outputs": [
    {
     "name": "stdout",
     "output_type": "stream",
     "text": [
      "2025-10-14 11:43:55.564652\n"
     ]
    }
   ],
   "source": [
    "import datetime\n",
    "print(datetime.datetime.now())"
   ]
  },
  {
   "cell_type": "code",
   "execution_count": 56,
   "id": "f573d28e",
   "metadata": {},
   "outputs": [
    {
     "name": "stdout",
     "output_type": "stream",
     "text": [
      "65\n",
      "43\n",
      "58\n",
      "32\n",
      "43\n",
      "21\n"
     ]
    }
   ],
   "source": [
    "import random\n",
    "for i in range(6):\n",
    "        print(random.randint(0,66))"
   ]
  },
  {
   "cell_type": "code",
   "execution_count": 57,
   "id": "457975e1",
   "metadata": {},
   "outputs": [
    {
     "ename": "ModuleNotFoundError",
     "evalue": "No module named 'calci'",
     "output_type": "error",
     "traceback": [
      "\u001b[1;31m---------------------------------------------------------------------------\u001b[0m",
      "\u001b[1;31mModuleNotFoundError\u001b[0m                       Traceback (most recent call last)",
      "Input \u001b[1;32mIn [57]\u001b[0m, in \u001b[0;36m<cell line: 1>\u001b[1;34m()\u001b[0m\n\u001b[1;32m----> 1\u001b[0m \u001b[38;5;28;01mimport\u001b[39;00m \u001b[38;5;21;01mcalci\u001b[39;00m\n",
      "\u001b[1;31mModuleNotFoundError\u001b[0m: No module named 'calci'"
     ]
    }
   ],
   "source": [
    "import calci"
   ]
  },
  {
   "cell_type": "markdown",
   "id": "66415bf5",
   "metadata": {},
   "source": [
    "# COPY THE CODE TO NOTEPAD AND THEN NAME IT AS .PY, WE WILL GET, THE PACKAGE IN THE SOFTWARE, THEN IT'LL BE INCLUDED IN ALL THE \n",
    "# PROGRAM"
   ]
  },
  {
   "cell_type": "code",
   "execution_count": 60,
   "id": "2471e150",
   "metadata": {},
   "outputs": [],
   "source": [
    "def add(a,b):\n",
    "    print(\"sum\",a+b)\n",
    "def sub(a,b):\n",
    "    print(\"sub\",a-b)\n",
    "def mutli(a,b):\n",
    "    print(\"multi\",a*b)\n",
    "def sub(a,b):\n",
    "    print(\"div\",a/b)"
   ]
  },
  {
   "cell_type": "markdown",
   "id": "6e7f4809",
   "metadata": {},
   "source": [
    "# LIST-MUTABLE"
   ]
  },
  {
   "cell_type": "code",
   "execution_count": 61,
   "id": "361ab0d9",
   "metadata": {},
   "outputs": [
    {
     "name": "stdout",
     "output_type": "stream",
     "text": [
      "<class 'int'>\n",
      "1\n",
      "10\n"
     ]
    }
   ],
   "source": [
    "i=[2,3,4,\"kt\",2,2,3,4,56,7]\n",
    "print(type(1))\n",
    "print(1)\n",
    "print(len(i))"
   ]
  },
  {
   "cell_type": "code",
   "execution_count": 62,
   "id": "7bac26e0",
   "metadata": {},
   "outputs": [
    {
     "data": {
      "text/plain": [
       "[2, 3, 4, 'kt', 2, 2, 3, 4, 56, 7]"
      ]
     },
     "execution_count": 62,
     "metadata": {},
     "output_type": "execute_result"
    }
   ],
   "source": [
    "i"
   ]
  },
  {
   "cell_type": "code",
   "execution_count": 63,
   "id": "41e48c30",
   "metadata": {},
   "outputs": [
    {
     "data": {
      "text/plain": [
       "[2, 3, 4, 'kt']"
      ]
     },
     "execution_count": 63,
     "metadata": {},
     "output_type": "execute_result"
    }
   ],
   "source": [
    "i[0:4]"
   ]
  },
  {
   "cell_type": "code",
   "execution_count": 64,
   "id": "d2e99dd0",
   "metadata": {},
   "outputs": [
    {
     "data": {
      "text/plain": [
       "3"
      ]
     },
     "execution_count": 64,
     "metadata": {},
     "output_type": "execute_result"
    }
   ],
   "source": [
    "i.count(2) # counts the amount of numbers inside the set!"
   ]
  },
  {
   "cell_type": "code",
   "execution_count": 66,
   "id": "afbd767b",
   "metadata": {},
   "outputs": [
    {
     "data": {
      "text/plain": [
       "8"
      ]
     },
     "execution_count": 66,
     "metadata": {},
     "output_type": "execute_result"
    }
   ],
   "source": [
    "i.index(4)\n",
    "i.index(56)"
   ]
  },
  {
   "cell_type": "code",
   "execution_count": 67,
   "id": "ae5fd3f1",
   "metadata": {},
   "outputs": [],
   "source": [
    "i.append(\"Name\") # add new element into set at end"
   ]
  },
  {
   "cell_type": "code",
   "execution_count": 68,
   "id": "97f1c876",
   "metadata": {},
   "outputs": [
    {
     "data": {
      "text/plain": [
       "[2, 3, 4, 'kt', 2, 2, 3, 4, 56, 7, 'Name']"
      ]
     },
     "execution_count": 68,
     "metadata": {},
     "output_type": "execute_result"
    }
   ],
   "source": [
    "i"
   ]
  },
  {
   "cell_type": "code",
   "execution_count": 5,
   "id": "9eda4145",
   "metadata": {},
   "outputs": [],
   "source": [
    "i=[2,3,4,\"kt\",2,2,3,4,56,7]\n",
    "i.insert(1,\"Back\")"
   ]
  },
  {
   "cell_type": "code",
   "execution_count": 3,
   "id": "f054eef3",
   "metadata": {},
   "outputs": [
    {
     "data": {
      "text/plain": [
       "100"
      ]
     },
     "execution_count": 3,
     "metadata": {},
     "output_type": "execute_result"
    }
   ],
   "source": [
    "i"
   ]
  },
  {
   "cell_type": "code",
   "execution_count": 10,
   "id": "b1b311d3",
   "metadata": {},
   "outputs": [],
   "source": [
    "n=[]\n",
    "m=[]\n",
    "for a in range(1,101):\n",
    "    if a%2==0:\n",
    "        n.append(a)\n",
    "    else:\n",
    "        m.append(a)"
   ]
  },
  {
   "cell_type": "code",
   "execution_count": 5,
   "id": "9bb05072",
   "metadata": {},
   "outputs": [
    {
     "data": {
      "text/plain": [
       "[2,\n",
       " 4,\n",
       " 6,\n",
       " 8,\n",
       " 10,\n",
       " 12,\n",
       " 14,\n",
       " 16,\n",
       " 18,\n",
       " 20,\n",
       " 22,\n",
       " 24,\n",
       " 26,\n",
       " 28,\n",
       " 30,\n",
       " 32,\n",
       " 34,\n",
       " 36,\n",
       " 38,\n",
       " 40,\n",
       " 42,\n",
       " 44,\n",
       " 46,\n",
       " 48,\n",
       " 50,\n",
       " 52,\n",
       " 54,\n",
       " 56,\n",
       " 58,\n",
       " 60,\n",
       " 62,\n",
       " 64,\n",
       " 66,\n",
       " 68,\n",
       " 70,\n",
       " 72,\n",
       " 74,\n",
       " 76,\n",
       " 78,\n",
       " 80,\n",
       " 82,\n",
       " 84,\n",
       " 86,\n",
       " 88,\n",
       " 90,\n",
       " 92,\n",
       " 94,\n",
       " 96,\n",
       " 98,\n",
       " 100]"
      ]
     },
     "execution_count": 5,
     "metadata": {},
     "output_type": "execute_result"
    }
   ],
   "source": [
    "n"
   ]
  },
  {
   "cell_type": "code",
   "execution_count": 6,
   "id": "f7c60f14",
   "metadata": {},
   "outputs": [
    {
     "data": {
      "text/plain": [
       "[1,\n",
       " 3,\n",
       " 5,\n",
       " 7,\n",
       " 9,\n",
       " 11,\n",
       " 13,\n",
       " 15,\n",
       " 17,\n",
       " 19,\n",
       " 21,\n",
       " 23,\n",
       " 25,\n",
       " 27,\n",
       " 29,\n",
       " 31,\n",
       " 33,\n",
       " 35,\n",
       " 37,\n",
       " 39,\n",
       " 41,\n",
       " 43,\n",
       " 45,\n",
       " 47,\n",
       " 49,\n",
       " 51,\n",
       " 53,\n",
       " 55,\n",
       " 57,\n",
       " 59,\n",
       " 61,\n",
       " 63,\n",
       " 65,\n",
       " 67,\n",
       " 69,\n",
       " 71,\n",
       " 73,\n",
       " 75,\n",
       " 77,\n",
       " 79,\n",
       " 81,\n",
       " 83,\n",
       " 85,\n",
       " 87,\n",
       " 89,\n",
       " 91,\n",
       " 93,\n",
       " 95,\n",
       " 97,\n",
       " 99]"
      ]
     },
     "execution_count": 6,
     "metadata": {},
     "output_type": "execute_result"
    }
   ],
   "source": [
    "m"
   ]
  },
  {
   "cell_type": "code",
   "execution_count": 11,
   "id": "64681c23",
   "metadata": {},
   "outputs": [],
   "source": [
    "i=[2,3,4,\"kt\",2,2,3,4,56,7]"
   ]
  },
  {
   "cell_type": "code",
   "execution_count": 12,
   "id": "7a607033",
   "metadata": {},
   "outputs": [
    {
     "data": {
      "text/plain": [
       "7"
      ]
     },
     "execution_count": 12,
     "metadata": {},
     "output_type": "execute_result"
    }
   ],
   "source": [
    "i.pop()"
   ]
  },
  {
   "cell_type": "code",
   "execution_count": 13,
   "id": "c6760117",
   "metadata": {},
   "outputs": [
    {
     "data": {
      "text/plain": [
       "[2, 3, 4, 'kt', 2, 2, 3, 4, 56]"
      ]
     },
     "execution_count": 13,
     "metadata": {},
     "output_type": "execute_result"
    }
   ],
   "source": [
    "i"
   ]
  },
  {
   "cell_type": "code",
   "execution_count": 17,
   "id": "534f093e",
   "metadata": {},
   "outputs": [],
   "source": [
    "i=[2,3,4,\"kt\",2,2,3,4,56,7]\n",
    "i.remove(2)"
   ]
  },
  {
   "cell_type": "code",
   "execution_count": 18,
   "id": "11636ce6",
   "metadata": {},
   "outputs": [
    {
     "data": {
      "text/plain": [
       "[3, 4, 'kt', 2, 2, 3, 4, 56, 7]"
      ]
     },
     "execution_count": 18,
     "metadata": {},
     "output_type": "execute_result"
    }
   ],
   "source": [
    "i"
   ]
  },
  {
   "cell_type": "markdown",
   "id": "910ecb34",
   "metadata": {},
   "source": [
    "# tuple"
   ]
  },
  {
   "cell_type": "code",
   "execution_count": 2,
   "id": "5bae2b12",
   "metadata": {
    "scrolled": true
   },
   "outputs": [
    {
     "name": "stdout",
     "output_type": "stream",
     "text": [
      "<class 'tuple'>\n",
      "(2, 3, 4, 56, 7)\n"
     ]
    }
   ],
   "source": [
    "a=(2,3,4,56,7)\n",
    "print(type(a))\n",
    "print(a)"
   ]
  },
  {
   "cell_type": "markdown",
   "id": "aad2686d",
   "metadata": {},
   "source": [
    "# DICT"
   ]
  },
  {
   "cell_type": "code",
   "execution_count": 9,
   "id": "f175cc10",
   "metadata": {},
   "outputs": [
    {
     "name": "stdout",
     "output_type": "stream",
     "text": [
      "<class 'dict'>\n",
      "{100: 'ABC', 101: 'DEF'}\n"
     ]
    }
   ],
   "source": [
    "d={100:\"ABC\",101:\"DEF\"}\n",
    "print(type(d))\n",
    "print(d)"
   ]
  },
  {
   "cell_type": "code",
   "execution_count": 10,
   "id": "333a1671",
   "metadata": {},
   "outputs": [
    {
     "data": {
      "text/plain": [
       "100"
      ]
     },
     "execution_count": 10,
     "metadata": {},
     "output_type": "execute_result"
    }
   ],
   "source": [
    "100"
   ]
  },
  {
   "cell_type": "code",
   "execution_count": 11,
   "id": "50286958",
   "metadata": {
    "scrolled": true
   },
   "outputs": [
    {
     "data": {
      "text/plain": [
       "{100: 'ABC', 101: 'DEF'}"
      ]
     },
     "execution_count": 11,
     "metadata": {},
     "output_type": "execute_result"
    }
   ],
   "source": [
    "d"
   ]
  },
  {
   "cell_type": "code",
   "execution_count": 12,
   "id": "81a306e5",
   "metadata": {},
   "outputs": [],
   "source": [
    "d[103]=\"GHI\""
   ]
  },
  {
   "cell_type": "code",
   "execution_count": 13,
   "id": "cf9259b9",
   "metadata": {},
   "outputs": [
    {
     "data": {
      "text/plain": [
       "{100: 'ABC', 101: 'DEF', 103: 'GHI'}"
      ]
     },
     "execution_count": 13,
     "metadata": {},
     "output_type": "execute_result"
    }
   ],
   "source": [
    "d"
   ]
  },
  {
   "cell_type": "code",
   "execution_count": null,
   "id": "d634bd7b",
   "metadata": {},
   "outputs": [],
   "source": []
  }
 ],
 "metadata": {
  "kernelspec": {
   "display_name": "Python 3 (ipykernel)",
   "language": "python",
   "name": "python3"
  },
  "language_info": {
   "codemirror_mode": {
    "name": "ipython",
    "version": 3
   },
   "file_extension": ".py",
   "mimetype": "text/x-python",
   "name": "python",
   "nbconvert_exporter": "python",
   "pygments_lexer": "ipython3",
   "version": "3.9.12"
  }
 },
 "nbformat": 4,
 "nbformat_minor": 5
}
