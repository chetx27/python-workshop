{
 "cells": [
  {
   "cell_type": "code",
   "execution_count": 5,
   "id": "78520bb1",
   "metadata": {},
   "outputs": [
    {
     "name": "stdout",
     "output_type": "stream",
     "text": [
      "Hi! Good Morning\n",
      "Information about students\n"
     ]
    }
   ],
   "source": [
    "class demo():\n",
    "    def welcome():\n",
    "        print(\"Hi! Good Morning\")\n",
    "    def info():\n",
    "        print(\"Information about students\")\n",
    "        \n",
    "demo.welcome() \n",
    "demo.info()"
   ]
  },
  {
   "cell_type": "markdown",
   "id": "24891191",
   "metadata": {},
   "source": [
    "# self is used to call the function by itself when we store class in some variable!! "
   ]
  },
  {
   "cell_type": "code",
   "execution_count": 11,
   "id": "004eee45",
   "metadata": {},
   "outputs": [
    {
     "name": "stdout",
     "output_type": "stream",
     "text": [
      "Hi! Good Morning\n",
      "Information about students\n"
     ]
    }
   ],
   "source": [
    "class demo():\n",
    "    def welcome(self):\n",
    "        print(\"Hi! Good Morning\")\n",
    "    def info(self):\n",
    "        print(\"Information about students\")\n",
    "        \n",
    "s1=demo() \n",
    "s1.welcome()\n",
    "s1.info()"
   ]
  },
  {
   "cell_type": "code",
   "execution_count": 5,
   "id": "a6ec56b1",
   "metadata": {},
   "outputs": [],
   "source": [
    "class Students:\n",
    "    def __init__(self, name, age, cls, ph, address):\n",
    "        self.name = name\n",
    "        self.age = age\n",
    "        self.cls = cls\n",
    "        self.ph = ph\n",
    "        self.address = address\n",
    "\n",
    "    def info(self):\n",
    "        print(\"Information about the student\")\n",
    "        print(\"Name:\", self.name)\n",
    "        print(\"Age:\", self.age)\n",
    "        print(\"Class:\", self.cls)\n",
    "        print(\"Phone number:\", self.ph)\n",
    "        print(\"Address:\", self.address)\n",
    "\n",
    "    def update(self, ph):\n",
    "        self.ph = ph\n",
    "\n",
    "\n",
    "s1 = Students(\"Harish\", 19, 14, 8746465655454, \"Bangalore\")\n",
    "s2 = Students(\"Mahesh\", 25, 14, 8544545545454, \"Mangalore\")\n",
    "s3 = Students(\"Santoor\", 25, 14, 545454542554, \"Jailore\")\n",
    "\n"
   ]
  },
  {
   "cell_type": "code",
   "execution_count": 8,
   "id": "5235506b",
   "metadata": {},
   "outputs": [],
   "source": [
    "s1.update(99733774774)"
   ]
  },
  {
   "cell_type": "code",
   "execution_count": 9,
   "id": "2238628e",
   "metadata": {},
   "outputs": [
    {
     "name": "stdout",
     "output_type": "stream",
     "text": [
      "Information about the student\n",
      "Name: Harish\n",
      "Age: 19\n",
      "Class: 14\n",
      "Phone number: 99733774774\n",
      "Address: Bangalore\n"
     ]
    }
   ],
   "source": [
    "s1.info()"
   ]
  },
  {
   "cell_type": "code",
   "execution_count": null,
   "id": "fb3f80a0",
   "metadata": {},
   "outputs": [],
   "source": []
  }
 ],
 "metadata": {
  "kernelspec": {
   "display_name": "Python 3 (ipykernel)",
   "language": "python",
   "name": "python3"
  },
  "language_info": {
   "codemirror_mode": {
    "name": "ipython",
    "version": 3
   },
   "file_extension": ".py",
   "mimetype": "text/x-python",
   "name": "python",
   "nbconvert_exporter": "python",
   "pygments_lexer": "ipython3",
   "version": "3.9.12"
  }
 },
 "nbformat": 4,
 "nbformat_minor": 5
}
