{
 "cells": [
  {
   "cell_type": "code",
   "execution_count": 1,
   "id": "0e0527f0",
   "metadata": {},
   "outputs": [
    {
     "name": "stdout",
     "output_type": "stream",
     "text": [
      "Hello World\n"
     ]
    }
   ],
   "source": [
    "print(\"Hello World\")"
   ]
  },
  {
   "cell_type": "markdown",
   "id": "acaffe53",
   "metadata": {},
   "source": [
    "# Basics of python"
   ]
  },
  {
   "cell_type": "code",
   "execution_count": 2,
   "id": "1bd64caa",
   "metadata": {},
   "outputs": [
    {
     "name": "stdout",
     "output_type": "stream",
     "text": [
      "Welcome to workshop!\n"
     ]
    }
   ],
   "source": [
    "print(\"Welcome to workshop!\")"
   ]
  },
  {
   "cell_type": "code",
   "execution_count": 4,
   "id": "6b3bb6d5",
   "metadata": {},
   "outputs": [
    {
     "name": "stdout",
     "output_type": "stream",
     "text": [
      "Q value 20\n"
     ]
    }
   ],
   "source": [
    "q = 20\n",
    "w = 6554.858\n",
    "print(\"Q value\",q)"
   ]
  },
  {
   "cell_type": "markdown",
   "id": "dbd48a1f",
   "metadata": {},
   "source": [
    "# String Data Type"
   ]
  },
  {
   "cell_type": "code",
   "execution_count": 2,
   "id": "ea5d0342",
   "metadata": {},
   "outputs": [
    {
     "name": "stdout",
     "output_type": "stream",
     "text": [
      "hello\n",
      "<class 'str'>\n",
      "1735886584176\n"
     ]
    }
   ],
   "source": [
    "s=\"hello\"\n",
    "print(s)\n",
    "print(type(s))\n",
    "print(id(s))\n"
   ]
  },
  {
   "cell_type": "markdown",
   "id": "615dee35",
   "metadata": {},
   "source": [
    "# id() is used display the index of the data's"
   ]
  },
  {
   "cell_type": "code",
   "execution_count": 17,
   "id": "2410b331",
   "metadata": {},
   "outputs": [
    {
     "data": {
      "text/plain": [
       "'hello'"
      ]
     },
     "execution_count": 17,
     "metadata": {},
     "output_type": "execute_result"
    }
   ],
   "source": [
    "s[0:5]"
   ]
  },
  {
   "cell_type": "code",
   "execution_count": 9,
   "id": "5f308460",
   "metadata": {},
   "outputs": [
    {
     "data": {
      "text/plain": [
       "'hell'"
      ]
     },
     "execution_count": 9,
     "metadata": {},
     "output_type": "execute_result"
    }
   ],
   "source": [
    "s[0:4]"
   ]
  },
  {
   "cell_type": "code",
   "execution_count": 20,
   "id": "f948b504",
   "metadata": {},
   "outputs": [
    {
     "data": {
      "text/plain": [
       "'olle'"
      ]
     },
     "execution_count": 20,
     "metadata": {},
     "output_type": "execute_result"
    }
   ],
   "source": [
    "s[-1:-5:-1]"
   ]
  },
  {
   "cell_type": "markdown",
   "id": "8d031970",
   "metadata": {},
   "source": [
    "# if we want to print in reverse mode, then first size should be the value,  2nd size last value, 3rd size should be the number of times the value is skipped."
   ]
  },
  {
   "cell_type": "markdown",
   "id": "617aaccd",
   "metadata": {},
   "source": [
    "# FUNCTION"
   ]
  },
  {
   "cell_type": "code",
   "execution_count": 23,
   "id": "0d4eef8d",
   "metadata": {},
   "outputs": [
    {
     "name": "stdout",
     "output_type": "stream",
     "text": [
      "HELLO\n",
      "hello\n",
      "Hello\n"
     ]
    }
   ],
   "source": [
    "print(s.upper())\n",
    "print(s.lower())\n",
    "print(s.title())"
   ]
  },
  {
   "cell_type": "markdown",
   "id": "52d9099a",
   "metadata": {},
   "source": [
    "# The title function, is used to display the first letter in caps of all the words! "
   ]
  },
  {
   "cell_type": "code",
   "execution_count": 25,
   "id": "0a170d75",
   "metadata": {},
   "outputs": [
    {
     "name": "stdout",
     "output_type": "stream",
     "text": [
      "Chethana G\n"
     ]
    }
   ],
   "source": [
    "a=\"Chethana\"\n",
    "b=\"G\"\n",
    "print(a+' '+b)"
   ]
  },
  {
   "cell_type": "markdown",
   "id": "d5633f43",
   "metadata": {},
   "source": [
    "# Concatination is applicable only for same data types not other data types!"
   ]
  },
  {
   "cell_type": "code",
   "execution_count": 26,
   "id": "b7fca18a",
   "metadata": {},
   "outputs": [
    {
     "data": {
      "text/plain": [
       "True"
      ]
     },
     "execution_count": 26,
     "metadata": {},
     "output_type": "execute_result"
    }
   ],
   "source": [
    "bool(1)"
   ]
  },
  {
   "cell_type": "code",
   "execution_count": 27,
   "id": "32bfbd18",
   "metadata": {},
   "outputs": [
    {
     "data": {
      "text/plain": [
       "False"
      ]
     },
     "execution_count": 27,
     "metadata": {},
     "output_type": "execute_result"
    }
   ],
   "source": [
    "bool(0)"
   ]
  },
  {
   "cell_type": "code",
   "execution_count": 32,
   "id": "7f9b2ba7",
   "metadata": {},
   "outputs": [
    {
     "data": {
      "text/plain": [
       "3"
      ]
     },
     "execution_count": 32,
     "metadata": {},
     "output_type": "execute_result"
    }
   ],
   "source": [
    "True+False+False+True+bool(2)"
   ]
  },
  {
   "cell_type": "markdown",
   "id": "a605b723",
   "metadata": {},
   "source": [
    "# bool(integer/number) - True - 1\n",
    "# bool(0) -  False - 0"
   ]
  },
  {
   "cell_type": "markdown",
   "id": "56e317eb",
   "metadata": {},
   "source": [
    "# complex data type c=8+6j "
   ]
  },
  {
   "cell_type": "code",
   "execution_count": 41,
   "id": "fbba068b",
   "metadata": {},
   "outputs": [
    {
     "name": "stdout",
     "output_type": "stream",
     "text": [
      "(2.8+6j)\n",
      "<class 'complex'>\n"
     ]
    }
   ],
   "source": [
    "c=2.8+6j\n",
    "print(c)\n",
    "print(type(c))"
   ]
  },
  {
   "cell_type": "code",
   "execution_count": 42,
   "id": "a5945cb8",
   "metadata": {},
   "outputs": [
    {
     "data": {
      "text/plain": [
       "8.8"
      ]
     },
     "execution_count": 42,
     "metadata": {},
     "output_type": "execute_result"
    }
   ],
   "source": [
    "c.imag+c.real"
   ]
  },
  {
   "cell_type": "code",
   "execution_count": 43,
   "id": "c863916d",
   "metadata": {},
   "outputs": [
    {
     "data": {
      "text/plain": [
       "6.0"
      ]
     },
     "execution_count": 43,
     "metadata": {},
     "output_type": "execute_result"
    }
   ],
   "source": [
    "c.imag"
   ]
  },
  {
   "cell_type": "code",
   "execution_count": 44,
   "id": "dd859289",
   "metadata": {},
   "outputs": [
    {
     "data": {
      "text/plain": [
       "2.8"
      ]
     },
     "execution_count": 44,
     "metadata": {},
     "output_type": "execute_result"
    }
   ],
   "source": [
    "c.real"
   ]
  },
  {
   "cell_type": "markdown",
   "id": "7fd1573b",
   "metadata": {},
   "source": [
    "# TYPECASTING"
   ]
  },
  {
   "cell_type": "code",
   "execution_count": 51,
   "id": "05c28315",
   "metadata": {},
   "outputs": [
    {
     "name": "stdout",
     "output_type": "stream",
     "text": [
      "<class 'str'>\n",
      "88\n",
      "<class 'int'>\n"
     ]
    }
   ],
   "source": [
    "a=88\n",
    "b=str(a)\n",
    "print(type(b))\n",
    "print(b)\n",
    "print(type(a))"
   ]
  },
  {
   "cell_type": "code",
   "execution_count": 52,
   "id": "502a46e4",
   "metadata": {},
   "outputs": [
    {
     "name": "stdout",
     "output_type": "stream",
     "text": [
      "<class 'float'>\n",
      "22.0\n"
     ]
    }
   ],
   "source": [
    "a=22\n",
    "b=float(a)\n",
    "print(type(b))\n",
    "print(b)"
   ]
  },
  {
   "cell_type": "markdown",
   "id": "30bf359d",
   "metadata": {},
   "source": [
    "# String to integer we cannot convert! Since no ASCII"
   ]
  },
  {
   "cell_type": "code",
   "execution_count": 58,
   "id": "5b952c3b",
   "metadata": {},
   "outputs": [
    {
     "name": "stdout",
     "output_type": "stream",
     "text": [
      "5 hello\n"
     ]
    }
   ],
   "source": [
    "a=\"5\"\n",
    "b=\"hello\"\n",
    "c=a+\" \"+b\n",
    "print(c)"
   ]
  },
  {
   "cell_type": "markdown",
   "id": "7e867bce",
   "metadata": {},
   "source": [
    "# default input is string so, type cast with the data type \n",
    "# sep=\" \" - it is used to put any character in between all printing statements"
   ]
  },
  {
   "cell_type": "code",
   "execution_count": 66,
   "id": "e7a58b26",
   "metadata": {},
   "outputs": [
    {
     "name": "stdout",
     "output_type": "stream",
     "text": [
      "Enter the value of a 888\n",
      "Enter the value of b 66\n",
      "add 954 sub 822\n"
     ]
    }
   ],
   "source": [
    "a=int(input(\"Enter the value of a \"))\n",
    "b=int(input(\"Enter the value of b \"))\n",
    "c=a+b\n",
    "d=a-b\n",
    "print(\"add\",c, \"sub\",d, sep=\" \")"
   ]
  },
  {
   "cell_type": "code",
   "execution_count": 68,
   "id": "5040079e",
   "metadata": {},
   "outputs": [
    {
     "name": "stdout",
     "output_type": "stream",
     "text": [
      "add - 954 - sub - 822\n"
     ]
    }
   ],
   "source": [
    "print(\"add\", c, \"sub\", d, sep=\" - \")"
   ]
  },
  {
   "cell_type": "code",
   "execution_count": 70,
   "id": "c39dcc4f",
   "metadata": {},
   "outputs": [
    {
     "name": "stdout",
     "output_type": "stream",
     "text": [
      "add\n",
      "954\n",
      "sub\n",
      "822\n"
     ]
    }
   ],
   "source": [
    "print(\"add\", c, \"sub\", d, sep=\"\\n\")"
   ]
  },
  {
   "cell_type": "code",
   "execution_count": 74,
   "id": "241661b5",
   "metadata": {},
   "outputs": [
    {
     "name": "stdout",
     "output_type": "stream",
     "text": [
      "Multi: \t58608\n"
     ]
    }
   ],
   "source": [
    "multi = a*b\n",
    "print(\"Multi: \", multi, sep=\"\\t\")"
   ]
  },
  {
   "cell_type": "code",
   "execution_count": 87,
   "id": "9f483675",
   "metadata": {},
   "outputs": [
    {
     "name": "stdout",
     "output_type": "stream",
     "text": [
      "Enter your name:chethaana\n",
      "Enter last name:g\n",
      "Enter your fav no:27\n",
      "chethaanag32@gmail.com\n"
     ]
    }
   ],
   "source": [
    "first=input(\"Enter your name:\")\n",
    "last=input(\"Enter last name:\")\n",
    "num=int(input(\"Enter your fav no:\"))+5\n",
    "name=first+last\n",
    "z=str(num)\n",
    "print(name+z+\"@gmail.com\")"
   ]
  },
  {
   "cell_type": "markdown",
   "id": "e06f1c2d",
   "metadata": {},
   "source": [
    "# Swaping of 2 no's without using 3rd variable"
   ]
  },
  {
   "cell_type": "code",
   "execution_count": 12,
   "id": "bafcc52d",
   "metadata": {},
   "outputs": [
    {
     "name": "stdout",
     "output_type": "stream",
     "text": [
      "Enter first no:69\n",
      "Enter second no:96\n",
      "Value of a 96\n",
      "Value of b 69\n"
     ]
    }
   ],
   "source": [
    "a=int(input(\"Enter first no:\"))\n",
    "b=int(input(\"Enter second no:\"))\n",
    "a=a-b\n",
    "b=a+b\n",
    "a=b-a\n",
    "print(\"Value of a\", a)\n",
    "print(\"Value of b\", b)"
   ]
  },
  {
   "cell_type": "code",
   "execution_count": 13,
   "id": "08016938",
   "metadata": {},
   "outputs": [
    {
     "data": {
      "text/plain": [
       "1"
      ]
     },
     "execution_count": 13,
     "metadata": {},
     "output_type": "execute_result"
    }
   ],
   "source": [
    "3//2"
   ]
  },
  {
   "cell_type": "markdown",
   "id": "65a7b197",
   "metadata": {},
   "source": [
    "# // - remove the decimal part in divison of number"
   ]
  },
  {
   "cell_type": "code",
   "execution_count": 14,
   "id": "304ce94b",
   "metadata": {},
   "outputs": [
    {
     "data": {
      "text/plain": [
       "8"
      ]
     },
     "execution_count": 14,
     "metadata": {},
     "output_type": "execute_result"
    }
   ],
   "source": [
    "2**3"
   ]
  },
  {
   "cell_type": "markdown",
   "id": "a2146f2e",
   "metadata": {},
   "source": [
    "# 2^3 = 8"
   ]
  },
  {
   "cell_type": "markdown",
   "id": "7cc7dd82",
   "metadata": {},
   "source": [
    "# RELATIONAL OP"
   ]
  },
  {
   "cell_type": "code",
   "execution_count": 21,
   "id": "3c76ab3b",
   "metadata": {},
   "outputs": [
    {
     "name": "stdout",
     "output_type": "stream",
     "text": [
      "A >= B: True\n",
      "A >= B: False\n",
      "A <= B: False\n",
      "A > B: True\n",
      "A < B: False\n",
      "A < B: True\n"
     ]
    }
   ],
   "source": [
    "a=90\n",
    "b=20\n",
    "print(\"A >= B:\", a>=b)\n",
    "print(\"A >= B:\", b>=a)\n",
    "print(\"A <= B:\", a<=b)\n",
    "print(\"A > B:\", a>b)\n",
    "print(\"A < B:\", a<b)\n",
    "print(\"A < B:\", b<a)"
   ]
  },
  {
   "cell_type": "markdown",
   "id": "c97092a2",
   "metadata": {},
   "source": [
    "# LOGICAL OP"
   ]
  },
  {
   "cell_type": "code",
   "execution_count": 27,
   "id": "4b6da987",
   "metadata": {},
   "outputs": [
    {
     "data": {
      "text/plain": [
       "False"
      ]
     },
     "execution_count": 27,
     "metadata": {},
     "output_type": "execute_result"
    }
   ],
   "source": [
    "a=10\n",
    "b=30\n",
    "#logical AND\n",
    "a>1 and b<20 "
   ]
  },
  {
   "cell_type": "code",
   "execution_count": 28,
   "id": "2d3b00ef",
   "metadata": {},
   "outputs": [
    {
     "data": {
      "text/plain": [
       "False"
      ]
     },
     "execution_count": 28,
     "metadata": {},
     "output_type": "execute_result"
    }
   ],
   "source": [
    "#logical NOT\n",
    "not a<30 "
   ]
  },
  {
   "cell_type": "code",
   "execution_count": 29,
   "id": "81561255",
   "metadata": {},
   "outputs": [
    {
     "data": {
      "text/plain": [
       "True"
      ]
     },
     "execution_count": 29,
     "metadata": {},
     "output_type": "execute_result"
    }
   ],
   "source": [
    "#logical OR\n",
    "a>=10 or b>90 "
   ]
  },
  {
   "cell_type": "code",
   "execution_count": null,
   "id": "29cb218b",
   "metadata": {},
   "outputs": [],
   "source": [
    "#BITWISE OP\n",
    "# & | ^ ~ ------------- ~ isnt there!!!!\n",
    "a=2\n",
    "b=3\n",
    "print(a & b)\n",
    "print(a | b)\n",
    "print(a ^ b)"
   ]
  },
  {
   "cell_type": "markdown",
   "id": "d5476e98",
   "metadata": {},
   "source": [
    "# RIGHT SHIFT >> AND LEFT SHIFT <<  - IN BINARRY (SHIFT BY GIVEN VALUE, AND THE LAST FOUR IT GETS CONVERTED)"
   ]
  },
  {
   "cell_type": "code",
   "execution_count": 36,
   "id": "a40dedda",
   "metadata": {},
   "outputs": [
    {
     "data": {
      "text/plain": [
       "8"
      ]
     },
     "execution_count": 36,
     "metadata": {},
     "output_type": "execute_result"
    }
   ],
   "source": [
    "a=2\n",
    "a<<2"
   ]
  },
  {
   "cell_type": "code",
   "execution_count": 43,
   "id": "0450974a",
   "metadata": {},
   "outputs": [
    {
     "data": {
      "text/plain": [
       "2"
      ]
     },
     "execution_count": 43,
     "metadata": {},
     "output_type": "execute_result"
    }
   ],
   "source": [
    "b=5\n",
    "b>>1"
   ]
  },
  {
   "cell_type": "markdown",
   "id": "62369eb1",
   "metadata": {},
   "source": [
    "# SPECIAL OP"
   ]
  },
  {
   "cell_type": "code",
   "execution_count": null,
   "id": "1d1ddb9d",
   "metadata": {},
   "outputs": [],
   "source": [
    "###\n",
    "is and is not are the op ------> IDENTITY OP for checking the values and addresss!!!\n",
    "in and not in  -----------> MEMBERSHIP for checking the values inside the stored data"
   ]
  },
  {
   "cell_type": "code",
   "execution_count": 56,
   "id": "6e717d16",
   "metadata": {},
   "outputs": [
    {
     "data": {
      "text/plain": [
       "True"
      ]
     },
     "execution_count": 56,
     "metadata": {},
     "output_type": "execute_result"
    }
   ],
   "source": [
    "a=8\n",
    "b=8\n",
    "a is b"
   ]
  },
  {
   "cell_type": "code",
   "execution_count": 57,
   "id": "21f0143b",
   "metadata": {},
   "outputs": [
    {
     "data": {
      "text/plain": [
       "True"
      ]
     },
     "execution_count": 57,
     "metadata": {},
     "output_type": "execute_result"
    }
   ],
   "source": [
    "id(a) is not id(b)"
   ]
  },
  {
   "cell_type": "code",
   "execution_count": 58,
   "id": "6228b081",
   "metadata": {},
   "outputs": [
    {
     "data": {
      "text/plain": [
       "1971623520784"
      ]
     },
     "execution_count": 58,
     "metadata": {},
     "output_type": "execute_result"
    }
   ],
   "source": [
    "id(a)"
   ]
  },
  {
   "cell_type": "code",
   "execution_count": 59,
   "id": "3d72323b",
   "metadata": {},
   "outputs": [
    {
     "data": {
      "text/plain": [
       "1971623520784"
      ]
     },
     "execution_count": 59,
     "metadata": {},
     "output_type": "execute_result"
    }
   ],
   "source": [
    "id(b)"
   ]
  },
  {
   "cell_type": "code",
   "execution_count": 60,
   "id": "931a3ed4",
   "metadata": {},
   "outputs": [
    {
     "name": "stdout",
     "output_type": "stream",
     "text": [
      "1971623520784\n",
      "1971623520784\n"
     ]
    }
   ],
   "source": [
    "id(a) is id(b)\n",
    "print(id(a))\n",
    "print(id(b))"
   ]
  },
  {
   "cell_type": "markdown",
   "id": "458d35d9",
   "metadata": {},
   "source": [
    "### MEMBERSHIP"
   ]
  },
  {
   "cell_type": "code",
   "execution_count": 62,
   "id": "d4cc870c",
   "metadata": {},
   "outputs": [
    {
     "data": {
      "text/plain": [
       "True"
      ]
     },
     "execution_count": 62,
     "metadata": {},
     "output_type": "execute_result"
    }
   ],
   "source": [
    "a=[5,8,9,2,4,5,66,5,]\n",
    "66 in a"
   ]
  },
  {
   "cell_type": "code",
   "execution_count": 65,
   "id": "64a4d41f",
   "metadata": {},
   "outputs": [
    {
     "data": {
      "text/plain": [
       "True"
      ]
     },
     "execution_count": 65,
     "metadata": {},
     "output_type": "execute_result"
    }
   ],
   "source": [
    "45 not in a"
   ]
  },
  {
   "cell_type": "markdown",
   "id": "94f96f8f",
   "metadata": {},
   "source": [
    "# CALCI APP"
   ]
  },
  {
   "cell_type": "code",
   "execution_count": 4,
   "id": "75de844e",
   "metadata": {},
   "outputs": [
    {
     "name": "stdout",
     "output_type": "stream",
     "text": [
      "Enter no 1: 8\n",
      "Enter no 2: 9\n",
      "Enter no 3: 4\n",
      "Enter the operation eg: + - * /-\n",
      "SUB:  -5\n"
     ]
    }
   ],
   "source": [
    "a=int(input(\"Enter no 1: \"))\n",
    "b=int(input(\"Enter no 2: \"))\n",
    "c=int(input(\"Enter no 3: \"))\n",
    "d=input(\"Enter the operation eg: + - * /\")\n",
    "if (d=='+'):\n",
    "    sum=a+b+c\n",
    "    print(\"ADDITION: \", sum)\n",
    "elif (d=='-'):\n",
    "    sub=a-b-c\n",
    "    print(\"SUB: \", sub)\n",
    "elif(d=='*'):\n",
    "    multi=a*b*c\n",
    "    print(\"MULTI: \", multi)\n",
    "else:\n",
    "    if(a==0):\n",
    "        print(\"Not possible\")\n",
    "    else:\n",
    "        div=(a/b)/c\n",
    "        print(\"DIV:\", div)"
   ]
  },
  {
   "cell_type": "markdown",
   "id": "715ec0b4",
   "metadata": {},
   "source": [
    "### BIGGEST OF 3 No's"
   ]
  },
  {
   "cell_type": "code",
   "execution_count": 13,
   "id": "c8d6b5ef",
   "metadata": {},
   "outputs": [
    {
     "name": "stdout",
     "output_type": "stream",
     "text": [
      "Enter no 1: 1\n",
      "Enter no 2: 30\n",
      "Enter no 3: 5\n",
      "B is great\n"
     ]
    }
   ],
   "source": [
    "a=int(input(\"Enter no 1: \"))\n",
    "b=int(input(\"Enter no 2: \"))\n",
    "c=int(input(\"Enter no 3: \"))\n",
    "if a>b:\n",
    "    if a>c:\n",
    "        print(\"A great\")\n",
    "    else:\n",
    "        print(\"C is great\")\n",
    "else:\n",
    "    if b>c:\n",
    "        print(\"B is great\")\n",
    "    else:\n",
    "        print(\"C is great\")    "
   ]
  },
  {
   "cell_type": "markdown",
   "id": "3576040f",
   "metadata": {},
   "source": [
    "### isdigit() - is used to check the number s digit or not!\n",
    "### isnumeric() - it checks the string is numeric or not!"
   ]
  },
  {
   "cell_type": "code",
   "execution_count": 33,
   "id": "4f9362a1",
   "metadata": {
    "scrolled": false
   },
   "outputs": [
    {
     "name": "stdout",
     "output_type": "stream",
     "text": [
      "Enter no 1: 8 \n",
      "Enter no 2: 5\n",
      "Enter no 3: 7\n",
      "Enter the operation eg: + - * /+\n",
      "Not possible\n"
     ]
    }
   ],
   "source": [
    "a=input(\"Enter no 1: \")\n",
    "b=input(\"Enter no 2: \")\n",
    "c=input(\"Enter no 3: \")\n",
    "d=input(\"Enter the operation eg: + - * /\")\n",
    "if(a.isdigit() and b.isdigit() and c.isdigit()):\n",
    "    if (d=='+'):\n",
    "        sum=int(a)+int(b)+int(c)\n",
    "        print(\"ADDITION: \", sum)\n",
    "    elif (d=='-'):\n",
    "        sub=int(a)-int(b)-int(c)\n",
    "        print(\"SUB: \", sub)\n",
    "    elif(d=='*'):\n",
    "        multi=int(a)*int(b)*int(c)\n",
    "        print(\"MULTI: \", multi)\n",
    "    else:\n",
    "        if(a==0):\n",
    "            print(\"Not possible\")\n",
    "        else:\n",
    "            div=int(a)/int(b)/int(cdg c)\n",
    "            print(\"DIV:\", div)\n",
    "else:\n",
    "    print(\"Not possible\")"
   ]
  },
  {
   "cell_type": "markdown",
   "id": "898a53aa",
   "metadata": {},
   "source": [
    "# TO CHECK STRINGG IS THERE"
   ]
  },
  {
   "cell_type": "code",
   "execution_count": 1,
   "id": "95d6d4fc",
   "metadata": {},
   "outputs": [
    {
     "name": "stdout",
     "output_type": "stream",
     "text": [
      "Enter no 1: 1\n",
      "Enter no 2: 2\n",
      "Enter no 3: 3\n",
      "Enter the operation eg: + - * /+\n",
      "Sum: 6\n"
     ]
    }
   ],
   "source": [
    "a=input(\"Enter no 1: \")\n",
    "b=input(\"Enter no 2: \")\n",
    "c=input(\"Enter no 3: \")\n",
    "d=input(\"Enter the operation eg: + - * /\")\n",
    "\n",
    "if a.isdigit() and b.isdigit() and c.isdigit():\n",
    "    a=int(a)\n",
    "    b=int(b)\n",
    "    c=int(c)\n",
    "    if(d=='+'):\n",
    "        sum=a+b+c\n",
    "        print(\"Sum:\",sum)\n",
    "    elif(d=='-'):\n",
    "        sub=a-b-c\n",
    "        print(\"Sub:\",sub)\n",
    "    elif(d=='*'):\n",
    "        multi=a*b*c\n",
    "        print(\"Multi:\",multi)\n",
    "    else:\n",
    "        if(a==0):\n",
    "            print(\"Div Not possible!\")\n",
    "        else:\n",
    "            div=(a/b)/c\n",
    "else:\n",
    "    print(\"Operation not possible due to character!\")                 "
   ]
  },
  {
   "cell_type": "code",
   "execution_count": null,
   "id": "29fdddca",
   "metadata": {},
   "outputs": [],
   "source": []
  }
 ],
 "metadata": {
  "kernelspec": {
   "display_name": "Python 3 (ipykernel)",
   "language": "python",
   "name": "python3"
  },
  "language_info": {
   "codemirror_mode": {
    "name": "ipython",
    "version": 3
   },
   "file_extension": ".py",
   "mimetype": "text/x-python",
   "name": "python",
   "nbconvert_exporter": "python",
   "pygments_lexer": "ipython3",
   "version": "3.9.12"
  }
 },
 "nbformat": 4,
 "nbformat_minor": 5
}
