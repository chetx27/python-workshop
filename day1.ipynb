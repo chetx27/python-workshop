{
 "cells": [
  {
   "cell_type": "code",
   "execution_count": 1,
   "id": "0e0527f0",
   "metadata": {},
   "outputs": [
    {
     "name": "stdout",
     "output_type": "stream",
     "text": [
      "Hello World\n"
     ]
    }
   ],
   "source": [
    "print(\"Hello World\")"
   ]
  },
  {
   "cell_type": "markdown",
   "id": "acaffe53",
   "metadata": {},
   "source": [
    "# Basics of python"
   ]
  },
  {
   "cell_type": "code",
   "execution_count": 2,
   "id": "1bd64caa",
   "metadata": {},
   "outputs": [
    {
     "name": "stdout",
     "output_type": "stream",
     "text": [
      "Welcome to workshop!\n"
     ]
    }
   ],
   "source": [
    "print(\"Welcome to workshop!\")"
   ]
  },
  {
   "cell_type": "code",
   "execution_count": 4,
   "id": "6b3bb6d5",
   "metadata": {},
   "outputs": [
    {
     "name": "stdout",
     "output_type": "stream",
     "text": [
      "Q value 20\n"
     ]
    }
   ],
   "source": [
    "q = 20\n",
    "w = 6554.858\n",
    "print(\"Q value\",q)"
   ]
  },
  {
   "cell_type": "markdown",
   "id": "dbd48a1f",
   "metadata": {},
   "source": [
    "# String Data Type"
   ]
  },
  {
   "cell_type": "code",
   "execution_count": 2,
   "id": "ea5d0342",
   "metadata": {},
   "outputs": [
    {
     "name": "stdout",
     "output_type": "stream",
     "text": [
      "hello\n",
      "<class 'str'>\n",
      "1735886584176\n"
     ]
    }
   ],
   "source": [
    "s=\"hello\"\n",
    "print(s)\n",
    "print(type(s))\n",
    "print(id(s))\n"
   ]
  },
  {
   "cell_type": "markdown",
   "id": "615dee35",
   "metadata": {},
   "source": [
    "# id() is used display the index of the data's"
   ]
  },
  {
   "cell_type": "code",
   "execution_count": 17,
   "id": "2410b331",
   "metadata": {},
   "outputs": [
    {
     "data": {
      "text/plain": [
       "'hello'"
      ]
     },
     "execution_count": 17,
     "metadata": {},
     "output_type": "execute_result"
    }
   ],
   "source": [
    "s[0:5]"
   ]
  },
  {
   "cell_type": "code",
   "execution_count": 9,
   "id": "5f308460",
   "metadata": {},
   "outputs": [
    {
     "data": {
      "text/plain": [
       "'hell'"
      ]
     },
     "execution_count": 9,
     "metadata": {},
     "output_type": "execute_result"
    }
   ],
   "source": [
    "s[0:4]"
   ]
  },
  {
   "cell_type": "code",
   "execution_count": 20,
   "id": "f948b504",
   "metadata": {},
   "outputs": [
    {
     "data": {
      "text/plain": [
       "'olle'"
      ]
     },
     "execution_count": 20,
     "metadata": {},
     "output_type": "execute_result"
    }
   ],
   "source": [
    "s[-1:-5:-1]"
   ]
  },
  {
   "cell_type": "markdown",
   "id": "8d031970",
   "metadata": {},
   "source": [
    "# if we want to print in reverse mode, then first size should be the value,  2nd size last value, 3rd size should be the number of times the value is skipped."
   ]
  },
  {
   "cell_type": "markdown",
   "id": "617aaccd",
   "metadata": {},
   "source": [
    "# FUNCTION"
   ]
  },
  {
   "cell_type": "code",
   "execution_count": 23,
   "id": "0d4eef8d",
   "metadata": {},
   "outputs": [
    {
     "name": "stdout",
     "output_type": "stream",
     "text": [
      "HELLO\n",
      "hello\n",
      "Hello\n"
     ]
    }
   ],
   "source": [
    "print(s.upper())\n",
    "print(s.lower())\n",
    "print(s.title())"
   ]
  },
  {
   "cell_type": "markdown",
   "id": "52d9099a",
   "metadata": {},
   "source": [
    "# The title function, is used to display the first letter in caps of all the words! "
   ]
  },
  {
   "cell_type": "code",
   "execution_count": 25,
   "id": "0a170d75",
   "metadata": {},
   "outputs": [
    {
     "name": "stdout",
     "output_type": "stream",
     "text": [
      "Chethana G\n"
     ]
    }
   ],
   "source": [
    "a=\"Chethana\"\n",
    "b=\"G\"\n",
    "print(a+' '+b)"
   ]
  },
  {
   "cell_type": "markdown",
   "id": "d5633f43",
   "metadata": {},
   "source": [
    "# Concatination is applicable only for same data types not other data types!"
   ]
  },
  {
   "cell_type": "code",
   "execution_count": 26,
   "id": "b7fca18a",
   "metadata": {},
   "outputs": [
    {
     "data": {
      "text/plain": [
       "True"
      ]
     },
     "execution_count": 26,
     "metadata": {},
     "output_type": "execute_result"
    }
   ],
   "source": [
    "bool(1)"
   ]
  },
  {
   "cell_type": "code",
   "execution_count": 27,
   "id": "32bfbd18",
   "metadata": {},
   "outputs": [
    {
     "data": {
      "text/plain": [
       "False"
      ]
     },
     "execution_count": 27,
     "metadata": {},
     "output_type": "execute_result"
    }
   ],
   "source": [
    "bool(0)"
   ]
  },
  {
   "cell_type": "code",
   "execution_count": 32,
   "id": "7f9b2ba7",
   "metadata": {},
   "outputs": [
    {
     "data": {
      "text/plain": [
       "3"
      ]
     },
     "execution_count": 32,
     "metadata": {},
     "output_type": "execute_result"
    }
   ],
   "source": [
    "True+False+False+True+bool(2)"
   ]
  },
  {
   "cell_type": "markdown",
   "id": "a605b723",
   "metadata": {},
   "source": [
    "# bool(integer/number) - True - 1\n",
    "# bool(0) -  False - 0"
   ]
  },
  {
   "cell_type": "markdown",
   "id": "56e317eb",
   "metadata": {},
   "source": [
    "# complex data type c=8+6j "
   ]
  },
  {
   "cell_type": "code",
   "execution_count": 41,
   "id": "fbba068b",
   "metadata": {},
   "outputs": [
    {
     "name": "stdout",
     "output_type": "stream",
     "text": [
      "(2.8+6j)\n",
      "<class 'complex'>\n"
     ]
    }
   ],
   "source": [
    "c=2.8+6j\n",
    "print(c)\n",
    "print(type(c))"
   ]
  },
  {
   "cell_type": "code",
   "execution_count": 42,
   "id": "a5945cb8",
   "metadata": {},
   "outputs": [
    {
     "data": {
      "text/plain": [
       "8.8"
      ]
     },
     "execution_count": 42,
     "metadata": {},
     "output_type": "execute_result"
    }
   ],
   "source": [
    "c.imag+c.real"
   ]
  },
  {
   "cell_type": "code",
   "execution_count": 43,
   "id": "c863916d",
   "metadata": {},
   "outputs": [
    {
     "data": {
      "text/plain": [
       "6.0"
      ]
     },
     "execution_count": 43,
     "metadata": {},
     "output_type": "execute_result"
    }
   ],
   "source": [
    "c.imag"
   ]
  },
  {
   "cell_type": "code",
   "execution_count": 44,
   "id": "dd859289",
   "metadata": {},
   "outputs": [
    {
     "data": {
      "text/plain": [
       "2.8"
      ]
     },
     "execution_count": 44,
     "metadata": {},
     "output_type": "execute_result"
    }
   ],
   "source": [
    "c.real"
   ]
  },
  {
   "cell_type": "markdown",
   "id": "7fd1573b",
   "metadata": {},
   "source": [
    "# TYPECASTING"
   ]
  },
  {
   "cell_type": "code",
   "execution_count": 51,
   "id": "05c28315",
   "metadata": {},
   "outputs": [
    {
     "name": "stdout",
     "output_type": "stream",
     "text": [
      "<class 'str'>\n",
      "88\n",
      "<class 'int'>\n"
     ]
    }
   ],
   "source": [
    "a=88\n",
    "b=str(a)\n",
    "print(type(b))\n",
    "print(b)\n",
    "print(type(a))"
   ]
  },
  {
   "cell_type": "code",
   "execution_count": 52,
   "id": "502a46e4",
   "metadata": {},
   "outputs": [
    {
     "name": "stdout",
     "output_type": "stream",
     "text": [
      "<class 'float'>\n",
      "22.0\n"
     ]
    }
   ],
   "source": [
    "a=22\n",
    "b=float(a)\n",
    "print(type(b))\n",
    "print(b)"
   ]
  },
  {
   "cell_type": "markdown",
   "id": "30bf359d",
   "metadata": {},
   "source": [
    "# String to integer we cannot convert Since no ASCII"
   ]
  },
  {
   "cell_type": "code",
   "execution_count": 58,
   "id": "5b952c3b",
   "metadata": {},
   "outputs": [
    {
     "name": "stdout",
     "output_type": "stream",
     "text": [
      "5 hello\n"
     ]
    }
   ],
   "source": [
    "a=\"5\"\n",
    "b=\"hello\"\n",
    "c=a+\" \"+b\n",
    "print(c)"
   ]
  },
  {
   "cell_type": "markdown",
   "id": "7e867bce",
   "metadata": {},
   "source": [
    "# default input is string so, so type cast with the data type \n",
    "# sep=\" \" - it is used to put any character in between all printing statements"
   ]
  },
  {
   "cell_type": "code",
   "execution_count": 66,
   "id": "e7a58b26",
   "metadata": {},
   "outputs": [
    {
     "name": "stdout",
     "output_type": "stream",
     "text": [
      "Enter the value of a 888\n",
      "Enter the value of b 66\n",
      "add 954 sub 822\n"
     ]
    }
   ],
   "source": [
    "a=int(input(\"Enter the value of a \"))\n",
    "b=int(input(\"Enter the value of b \"))\n",
    "c=a+b\n",
    "d=a-b\n",
    "print(\"add\",c, \"sub\",d, sep=\" \")"
   ]
  },
  {
   "cell_type": "code",
   "execution_count": 68,
   "id": "5040079e",
   "metadata": {},
   "outputs": [
    {
     "name": "stdout",
     "output_type": "stream",
     "text": [
      "add - 954 - sub - 822\n"
     ]
    }
   ],
   "source": [
    "print(\"add\", c, \"sub\", d, sep=\" - \")"
   ]
  },
  {
   "cell_type": "code",
   "execution_count": 70,
   "id": "c39dcc4f",
   "metadata": {},
   "outputs": [
    {
     "name": "stdout",
     "output_type": "stream",
     "text": [
      "add\n",
      "954\n",
      "sub\n",
      "822\n"
     ]
    }
   ],
   "source": [
    "print(\"add\", c, \"sub\", d, sep=\"\\n\")"
   ]
  },
  {
   "cell_type": "code",
   "execution_count": 74,
   "id": "241661b5",
   "metadata": {},
   "outputs": [
    {
     "name": "stdout",
     "output_type": "stream",
     "text": [
      "Multi: \t58608\n"
     ]
    }
   ],
   "source": [
    "multi = a*b\n",
    "print(\"Multi: \", multi, sep=\"\\t\")"
   ]
  },
  {
   "cell_type": "code",
   "execution_count": 87,
   "id": "9f483675",
   "metadata": {},
   "outputs": [
    {
     "name": "stdout",
     "output_type": "stream",
     "text": [
      "Enter your name:chethaana\n",
      "Enter last name:g\n",
      "Enter your fav no:27\n",
      "chethaanag32@gmail.com\n"
     ]
    }
   ],
   "source": [
    "first=input(\"Enter your name:\")\n",
    "last=input(\"Enter last name:\")\n",
    "num=int(input(\"Enter your fav no:\"))+5\n",
    "name=first+last\n",
    "z=str(num)\n",
    "print(name+z+\"@gmail.com\")"
   ]
  },
  {
   "cell_type": "code",
   "execution_count": null,
   "id": "51d715f4",
   "metadata": {},
   "outputs": [],
   "source": []
  }
 ],
 "metadata": {
  "kernelspec": {
   "display_name": "Python 3 (ipykernel)",
   "language": "python",
   "name": "python3"
  },
  "language_info": {
   "codemirror_mode": {
    "name": "ipython",
    "version": 3
   },
   "file_extension": ".py",
   "mimetype": "text/x-python",
   "name": "python",
   "nbconvert_exporter": "python",
   "pygments_lexer": "ipython3",
   "version": "3.9.12"
  }
 },
 "nbformat": 4,
 "nbformat_minor": 5
}
